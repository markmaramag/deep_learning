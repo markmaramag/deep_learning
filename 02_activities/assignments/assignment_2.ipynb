{
 "cells": [
  {
   "cell_type": "markdown",
   "id": "7c6788aef474ca12",
   "metadata": {
    "collapsed": false,
    "id": "7c6788aef474ca12"
   },
   "source": [
    "# Text Generation with Recurrent Neural Networks (RNNs)\n",
    "\n",
    "In this assignment, you'll build upon your understanding of RNNs and Keras to develop a word-level text generation model.  Your goal is to train a model that learns the stylistic nuances of a chosen corpus and generates new, original text segments that echo the source material's essence.\n",
    "\n",
    "**Datasets**\n",
    "\n",
    "We've provided several intriguing text corpora to get you started:\n",
    "\n",
    "*   Mark Twain\n",
    "*   Charles Dickens\n",
    "*   William Shakespeare\n",
    "\n",
    "**Feel free to explore!**  If you have a particular passion for another author, genre, or a specific text, you're encouraged to use your own dataset of raw text."
   ]
  },
  {
   "cell_type": "code",
   "execution_count": 1,
   "id": "2d0bfedcfe52aedc",
   "metadata": {
    "colab": {
     "base_uri": "https://localhost:8080/"
    },
    "id": "2d0bfedcfe52aedc",
    "outputId": "eef898b3-cf85-43d1-9715-30194b9932d3"
   },
   "outputs": [
    {
     "name": "stdout",
     "output_type": "stream",
     "text": [
      "No GPU available. If you're on Colab, go to Runtime > Change runtime and select a GPU hardware accelerator.\n"
     ]
    }
   ],
   "source": [
    "# Check if we have a GPU available\n",
    "import tensorflow as tf\n",
    "if tf.test.gpu_device_name():\n",
    "    print('Default GPU Device: {}'.format(tf.test.gpu_device_name()))\n",
    "else:\n",
    "    print(\"No GPU available. If you're on Colab, go to Runtime > Change runtime and select a GPU hardware accelerator.\")"
   ]
  },
  {
   "cell_type": "code",
   "execution_count": 9,
   "id": "9c28c497f620b775",
   "metadata": {
    "ExecuteTime": {
     "end_time": "2024-02-08T21:30:44.959803Z",
     "start_time": "2024-02-08T21:30:44.701343Z"
    },
    "id": "9c28c497f620b775"
   },
   "outputs": [],
   "source": [
    "# We don't need these codes because the text files are already here: 02_activities\\assignments\\downloaded_books\n",
    "# def download_file(url, file_path):\n",
    "#    import requests\n",
    "#    r = requests.get(url)\n",
    "#    with open(file_path, 'wb') as f:\n",
    "#         f.write(r.content)\n",
    "\n",
    "def load_dataset(file_path, fraction=1.0):\n",
    "   with open(file_path, 'r', encoding='utf-8') as f:\n",
    "       raw_text = f.read()\n",
    "   return raw_text[:int(fraction * len(raw_text))]\n",
    "\n",
    "dataset = 'downloaded_books/shakespeare.txt' # Other options are mark_twain.txt, charles_dickens.txt\n",
    "\n",
    "# download_file(f'https://github.com/UofT-DSI/deep_learning/raw/main/assignments/downloaded_books/' + dataset, dataset) **The link goes to a 404 page\n",
    "\n",
    "# Load chosen dataset. NOTE: If Colab is running out of memory, change the `fraction` parameter to a value between 0 and 1 to load less data.\n",
    "text = load_dataset(dataset, fraction=0.1)"
   ]
  },
  {
   "cell_type": "markdown",
   "id": "dab51c764031e606",
   "metadata": {
    "collapsed": false,
    "id": "dab51c764031e606"
   },
   "source": [
    "# 1. Data Preparation (Complete or Incomplete)\n",
    "\n",
    "Before we can begin training an RNN model, we need to prepare the dataset. This involves cleaning the text, tokenizing words, and creating sequences the model can be trained on.\n",
    "\n",
    "## 1.1 Data Exploration\n",
    "\n",
    "Print the first 1000 characters of the dataset. Report the dataset's size and the number of unique characters it contains."
   ]
  },
  {
   "cell_type": "code",
   "execution_count": 10,
   "id": "BunkZmdkl0Wn",
   "metadata": {
    "colab": {
     "base_uri": "https://localhost:8080/"
    },
    "id": "BunkZmdkl0Wn",
    "outputId": "e429a49a-9334-4484-bd6b-2ce40c8298c1"
   },
   "outputs": [
    {
     "name": "stdout",
     "output_type": "stream",
     "text": [
      "First 1000 characters of the text:\n",
      "The Project Gutenberg EBook of Hamlet, by William Shakespeare\n",
      "\n",
      "This eBook is for the use of anyone anywhere at no cost and with\n",
      "almost no restrictions whatsoever.  You may copy it, give it away or\n",
      "re-use it under the terms of the Project Gutenberg License included\n",
      "with this eBook or online at www.gutenberg.org\n",
      "\n",
      "\n",
      "Title: Hamlet\n",
      "\n",
      "Author: William Shakespeare\n",
      "\n",
      "Editor: Charles Kean\n",
      "\n",
      "Release Date: January 10, 2009 [EBook #27761]\n",
      "\n",
      "Language: English\n",
      "\n",
      "Character set encoding: UTF-8\n",
      "\n",
      "*** START OF THIS PROJECT GUTENBERG EBOOK HAMLET ***\n",
      "\n",
      "\n",
      "\n",
      "\n",
      "Produced by David Starner, Curtis Weyant and the Online\n",
      "Distributed Proofreading Team at https://www.pgdp.net\n",
      "\n",
      "\n",
      "\n",
      "\n",
      "\n",
      "\n",
      "\n",
      "\n",
      "\n",
      "    Transcriber's Note:\n",
      "    This is a heavily edited version of _Hamlet_. It was used\n",
      "    for Charles Kean's 1859 stage production. Phrases printed\n",
      "    in italics in the book are indicated in this electronic\n",
      "    version by _ (underscore). Footnotes originally appeared\n",
      "    at the bottom of each page. For this electronic version\n",
      "    the footnotes \n",
      "\n",
      "==================================================\n",
      "\n",
      "Dataset Statistics:\n",
      "Total length: 935886 characters\n",
      "Number of unique characters: 131\n"
     ]
    }
   ],
   "source": [
    "# Print first 1000 characters\n",
    "print(\"First 1000 characters of the text:\")\n",
    "print(text[:1000])\n",
    "print(\"\\n\" + \"=\"*50 + \"\\n\")\n",
    "\n",
    "# Calculate and display dataset statistics\n",
    "print(\"Dataset Statistics:\")\n",
    "print(f\"Total length: {len(text)} characters\")\n",
    "print(f\"Number of unique characters: {len(set(text))}\")\n"
   ]
  },
  {
   "cell_type": "markdown",
   "id": "3ae1639f5ecfe587",
   "metadata": {
    "collapsed": false,
    "id": "3ae1639f5ecfe587"
   },
   "source": [
    "## 1.2 Text Pre-Processing\n",
    "\n",
    "To prepare the dataset for training, we need to clean the text and create a numerical representation the model can interpret. Perform the following pre-processing steps:\n",
    "\n",
    "*   Convert the entire text to lowercase.\n",
    "*   Use the `Tokenizer` class from the `keras.preprocessing.text` module to tokenize the text. You should fit the tokenizer on the text and then convert the text to a sequence of numbers. You can use the `texts_to_sequences` method to do this.\n",
    "\n",
    "**Note**:\n",
    "* You'll need to specify an appropriate size for the vocabulary. The number of words in the list of most common words can serve as a guide - does it seem like a reasonable vocabulary size?\n",
    "* Some of the words will be excluded from the vocabulary, as they don't appear often enough. It's important to provide a value for `oov_token` when creating the Tokenizer instance, so that these words can be represented as \"unknown\"."
   ]
  },
  {
   "cell_type": "code",
   "execution_count": 16,
   "id": "48fcc430",
   "metadata": {},
   "outputs": [
    {
     "name": "stdout",
     "output_type": "stream",
     "text": [
      "Example of first 5 words: ['the', 'project', 'gutenberg', 'ebook', 'of']\n",
      "\n",
      "First 10 words in our vocabulary:\n",
      "Word: '<UNK>' -> Number: 1\n",
      "Word: 'the' -> Number: 2\n",
      "Word: 'and' -> Number: 3\n",
      "Word: 'of' -> Number: 4\n",
      "Word: 'to' -> Number: 5\n",
      "Word: 'a' -> Number: 6\n",
      "Word: 'in' -> Number: 7\n",
      "Word: 'i' -> Number: 8\n",
      "Word: 'that' -> Number: 9\n",
      "Word: 'you' -> Number: 10\n",
      "\n",
      "Some facts about our text:\n",
      "Total unique words found: 13218\n",
      "Total words in text: 154215\n",
      "Words we're keeping: 5000\n"
     ]
    }
   ],
   "source": [
    "# Import the tool we need for converting text into numbers\n",
    "from keras.preprocessing.text import Tokenizer\n",
    "\n",
    "# Make all text lowercase\n",
    "text_lower = text.lower()\n",
    "\n",
    "# Split the text into individual words\n",
    "words = text_lower.split()\n",
    "print(f\"Example of first 5 words: {words[:5]}\")\n",
    "\n",
    "# Set up our parameters\n",
    "# Only keep the 5000 most common words to keep things manageable\n",
    "VOCAB_SIZE = 5000\n",
    "# If we find a word that's not in our top 5000, we'll call it \"<UNK>\" (unknown)\n",
    "OOV_TOKEN = \"<UNK>\"\n",
    "\n",
    "# Create our tokenizer (thing that converts words to numbers)\n",
    "tokenizer = Tokenizer(\n",
    "    num_words=VOCAB_SIZE,  # Keep only most common 5000 words\n",
    "    oov_token=OOV_TOKEN    # Use \"<UNK>\" for rare words\n",
    ")\n",
    "\n",
    "# Put text_lower in a list because that's what the tokenizer expects\n",
    "tokenizer.fit_on_texts([text_lower])\n",
    "\n",
    "# Get the first 10 words and their numbers\n",
    "first_ten_words = list(tokenizer.word_index.items())[:10]\n",
    "print(\"\\nFirst 10 words in our vocabulary:\")\n",
    "for word, number in first_ten_words:\n",
    "    print(f\"Word: '{word}' -> Number: {number}\")\n",
    "\n",
    "# Print some facts about our text\n",
    "print(\"\\nSome facts about our text:\")\n",
    "print(f\"Total unique words found: {len(tokenizer.word_index)}\")\n",
    "print(f\"Total words in text: {len(words)}\")\n",
    "print(f\"Words we're keeping: {VOCAB_SIZE}\")"
   ]
  },
  {
   "cell_type": "markdown",
   "id": "89d32bb9356f711",
   "metadata": {
    "collapsed": false,
    "id": "89d32bb9356f711"
   },
   "source": [
    "If everything worked, the following line should show you the first 10 words in the vocabulary:"
   ]
  },
  {
   "cell_type": "code",
   "execution_count": 17,
   "id": "6a7cd547a19feece",
   "metadata": {
    "colab": {
     "base_uri": "https://localhost:8080/"
    },
    "id": "6a7cd547a19feece",
    "outputId": "1f52c24c-fe9d-4074-a6b9-2be1b36a172e"
   },
   "outputs": [
    {
     "name": "stdout",
     "output_type": "stream",
     "text": [
      "[('<UNK>', 1), ('the', 2), ('and', 3), ('of', 4), ('to', 5), ('a', 6), ('in', 7), ('i', 8), ('that', 9), ('you', 10)]\n"
     ]
    }
   ],
   "source": [
    "try:\n",
    "    print(list(tokenizer.word_index.items())[:10])\n",
    "except AttributeError:\n",
    "    print(\"Tokenizer has not been initialized. Possible issue: Complete the relevant section of the assignment to initialize it.\"\n",
    ")\n"
   ]
  },
  {
   "cell_type": "markdown",
   "id": "da504e4bc6617613",
   "metadata": {
    "collapsed": false,
    "id": "da504e4bc6617613"
   },
   "source": [
    "## 1.3 Sequence Generation\n",
    "\n",
    "Now that the text has been tokenized, we need to create sequences the model can be trained on. There are two parts to this:\n",
    "\n",
    "*   Use the `texts_to_sequences` method from the tokenizer to convert the text to a list of sequences of numbers.\n",
    "*   Generate the training sequences. Each training sequence should contain `SEQ_LENGTH` token IDs from the text. The target token for each sequence should be the word that follows the sequence in the text."
   ]
  },
  {
   "cell_type": "code",
   "execution_count": 23,
   "id": "ea9d54a0",
   "metadata": {},
   "outputs": [
    {
     "name": "stdout",
     "output_type": "stream",
     "text": [
      "Input shape (X): (156661, 10)\n",
      "Output shape (y): (156661,)\n"
     ]
    }
   ],
   "source": [
    "# Import numpy for array operations\n",
    "import numpy as np\n",
    "\n",
    "# Set how many words to use for prediction\n",
    "SEQ_LENGTH = 10 # Choose an appropriate sequence length\n",
    "\n",
    "# Convert the text to a list of sequences of numbers\n",
    "sequences = tokenizer.texts_to_sequences([text_lower])[0]\n",
    "\n",
    "# Generate the training sequences\n",
    "X = []  # Input: sequence of words\n",
    "y = []  # Output: next word\n",
    "\n",
    "# Slide through the text, creating sequences\n",
    "for i in range(len(sequences) - SEQ_LENGTH):\n",
    "    X.append(sequences[i:i + SEQ_LENGTH])\n",
    "    y.append(sequences[i + SEQ_LENGTH])\n",
    "\n",
    "# Convert to numpy arrays\n",
    "X = np.array(X)\n",
    "y = np.array(y)\n",
    "\n",
    "# Print shapes to verify\n",
    "print(f\"Input shape (X): {X.shape}\")\n",
    "print(f\"Output shape (y): {y.shape}\")"
   ]
  },
  {
   "cell_type": "markdown",
   "id": "3b6bdc0deb930df1",
   "metadata": {
    "collapsed": false,
    "id": "3b6bdc0deb930df1"
   },
   "source": [
    "Assuming your sequences are stored in `X` and the corresponding targets in `y`, the following line should print the first training sequence and its target:"
   ]
  },
  {
   "cell_type": "code",
   "execution_count": 24,
   "id": "a495cab04001ce92",
   "metadata": {
    "colab": {
     "base_uri": "https://localhost:8080/"
    },
    "id": "a495cab04001ce92",
    "outputId": "ecc2c1f4-81d5-4edb-ba86-8c53f86df70b"
   },
   "outputs": [
    {
     "name": "stdout",
     "output_type": "stream",
     "text": [
      "Sequence: [  2  56  54 411   4 107  28 668 172  20]\n",
      "Target: 411\n",
      "Translated back to words: ['the', 'project', 'gutenberg', 'ebook', 'of', 'hamlet', 'by', 'william', 'shakespeare', 'this'] -> ebook\n"
     ]
    }
   ],
   "source": [
    "if len(X) > 0 and len(y) > 0:\n",
    "    print(f'Sequence: {X[0]}\\nTarget: {y[0]}')\n",
    "    print(f'Translated back to words: {[tokenizer.index_word[i] for i in X[0]]} -> {tokenizer.index_word[y[0]]}')\n",
    "else:\n",
    "    print(\"Training sequences have not been generated. Possible issue: Complete the relevant section of the assignment to initialize it.\")\n"
   ]
  },
  {
   "cell_type": "markdown",
   "id": "d5bb2c55da17aaa0",
   "metadata": {
    "collapsed": false,
    "id": "d5bb2c55da17aaa0"
   },
   "source": [
    "And the following code will transform y into a one-hot encoded matrix, and split everything into training and validation sets:"
   ]
  },
  {
   "cell_type": "code",
   "execution_count": 25,
   "id": "3a929b2e6c2cc921",
   "metadata": {
    "colab": {
     "base_uri": "https://localhost:8080/"
    },
    "id": "3a929b2e6c2cc921",
    "outputId": "bbac2f5d-5ec3-40d0-fdd7-c567088569d7"
   },
   "outputs": [
    {
     "name": "stdout",
     "output_type": "stream",
     "text": [
      "X_train shape: (116702, 10)\n",
      "y_train shape: (116702, 5000)\n"
     ]
    }
   ],
   "source": [
    "from sklearn.model_selection import train_test_split\n",
    "from keras.utils import to_categorical\n",
    "import numpy as np\n",
    "\n",
    "# Ensure that tokenizer has been initialized\n",
    "if tokenizer is not None:\n",
    "    # Convert X and y to numpy arrays\n",
    "    X = np.array(X)\n",
    "    y = np.array(y)\n",
    "\n",
    "    # Drop any examples where the target is the OOV token - we don't want our model to predict unknown words\n",
    "    if OOV_TOKEN in tokenizer.word_index:\n",
    "        mask = y != tokenizer.word_index[OOV_TOKEN]\n",
    "        X = X[mask]\n",
    "        y = y[mask]\n",
    "\n",
    "    # One-hot encode the target token\n",
    "    y = to_categorical(y, num_classes=VOCAB_SIZE)\n",
    "\n",
    "    # Split the data into training and validation sets\n",
    "    X_train, X_val, y_train, y_val = train_test_split(X, y, test_size=0.2, random_state=42)\n",
    "\n",
    "    print(f'X_train shape: {X_train.shape}')\n",
    "    print(f'y_train shape: {y_train.shape}')\n",
    "else:\n",
    "    print(\"Tokenizer has not been initialized. Please initialize it and load the vocabulary before continuing.\")\n"
   ]
  },
  {
   "cell_type": "markdown",
   "id": "b6e4161897210434",
   "metadata": {
    "collapsed": false,
    "id": "b6e4161897210434"
   },
   "source": [
    "# 2. Model Development (Complete or Incomplete)\n",
    "\n",
    "With the dataset prepared, it's time to develop the RNN model. You'll need to define the architecture of the model, compile it, and prepare it for training.\n",
    "\n",
    "## 2.1 Model Architecture\n",
    "\n",
    "Define the architecture of your RNN model. You can design it however you like, but there are a few features that it's important to include:\n",
    "\n",
    "*   An embedding layer that learns a dense representation of the input tokens. You'll need to specify the input dimension (the size of the vocabulary) and the output dimension (the size of the dense representation). Remember, you can look at the documentation [here](https://keras.io/api/layers/core_layers/embedding/).\n",
    "*   At least one recurrent layer. We have learned how to use LSTM layers in class, but you can use other types of recurrent layers if you prefer. You can find the documentation [here](https://keras.io/api/layers/recurrent_layers/lstm/).\n",
    "*   A dense layer with a softmax activation function. This layer will output a probability distribution over the vocabulary, so that the model can make predictions about the next token."
   ]
  },
  {
   "cell_type": "code",
   "execution_count": 29,
   "id": "9fdfaad93818fc8d",
   "metadata": {
    "colab": {
     "base_uri": "https://localhost:8080/"
    },
    "id": "9fdfaad93818fc8d",
    "outputId": "ae02a273-ab37-4274-d41c-b2c0c80350d6"
   },
   "outputs": [
    {
     "name": "stdout",
     "output_type": "stream",
     "text": [
      "Model: \"sequential_2\"\n",
      "_________________________________________________________________\n",
      " Layer (type)                Output Shape              Param #   \n",
      "=================================================================\n",
      " embedding_2 (Embedding)     (None, 10, 100)           500000    \n",
      "                                                                 \n",
      " lstm_2 (LSTM)               (None, 150)               150600    \n",
      "                                                                 \n",
      " dense_2 (Dense)             (None, 5000)              755000    \n",
      "                                                                 \n",
      "=================================================================\n",
      "Total params: 1,405,600\n",
      "Trainable params: 1,405,600\n",
      "Non-trainable params: 0\n",
      "_________________________________________________________________\n"
     ]
    }
   ],
   "source": [
    "from keras.models import Sequential\n",
    "from keras.layers import Embedding, LSTM, Dense\n",
    "\n",
    "model = Sequential([\n",
    "    # Embedding layer: converts word IDs to dense vectors\n",
    "    Embedding(\n",
    "        input_dim=VOCAB_SIZE,     # Size of vocabulary\n",
    "        output_dim=100,           # Size of word vectors\n",
    "        input_length=SEQ_LENGTH   # Length of input sequences\n",
    "    ),\n",
    "    \n",
    "    # LSTM layer: learns patterns in text\n",
    "    LSTM(\n",
    "        units=150,                # Number of LSTM units\n",
    "        return_sequences=False    # Return only final output\n",
    "    ),\n",
    "    \n",
    "    # Dense layer: predicts next word\n",
    "    Dense(\n",
    "        units=VOCAB_SIZE,         # One unit per word in vocabulary\n",
    "        activation='softmax'      # Outputs probabilities\n",
    "    )\n",
    "])\n",
    "\n",
    "# Check if the model has layers before trying to print the summary\n",
    "if len(model.layers) > 0:\n",
    "    model.summary()\n",
    "else:\n",
    "    print(\"No layers have been added to the model. Please complete the assignment by adding the required layers.\")"
   ]
  },
  {
   "cell_type": "markdown",
   "id": "2fafd2dbb0d589fc",
   "metadata": {
    "collapsed": false,
    "id": "2fafd2dbb0d589fc"
   },
   "source": [
    "## 2.2 Model Compilation\n",
    "\n",
    "Compile the model with an appropriate loss function and optimizer. You might also want to track additional metrics, such as accuracy.\n",
    "\n",
    "Give a short explanation of your choice of loss function and optimizer:\n",
    "\n",
    "_your explanation here_"
   ]
  },
  {
   "cell_type": "code",
   "execution_count": 31,
   "id": "ae4ca7a12051b1fd",
   "metadata": {
    "id": "ae4ca7a12051b1fd"
   },
   "outputs": [],
   "source": [
    "# Compile the model\n",
    "model.compile(\n",
    "    optimizer='adam',             # Adaptive learning rate optimizer\n",
    "    loss='categorical_crossentropy',  # Good for multi-class problems\n",
    "    metrics=['accuracy']          # Track prediction accuracy\n",
    ")"
   ]
  },
  {
   "cell_type": "markdown",
   "id": "103a44cf",
   "metadata": {},
   "source": [
    "\n",
    "The model uses categorical_crossentropy as the loss function because it’s ideal for multi-class classification and pairs well with the softmax activation, providing clear feedback to improve predictions.\n",
    "\n",
    "The Adam optimizer is chosen for its adaptability, automatically adjusting the learning rate for efficient and effective training. These choices ensure the model learns well with minimal tuning, making it suitable for complex tasks.\n"
   ]
  },
  {
   "cell_type": "markdown",
   "id": "c2f0b90a448c4f4b",
   "metadata": {
    "collapsed": false,
    "id": "c2f0b90a448c4f4b"
   },
   "source": [
    "## 2.3 Model Training\n",
    "\n",
    "Train the model on the training data you've prepared.\n",
    "\n",
    "* Train your model for 5 epochs with a batch size of 128. Use the validation data for validation.\n",
    "* Store the training history in a variable called `history`."
   ]
  },
  {
   "cell_type": "code",
   "execution_count": 32,
   "id": "3dd8186f",
   "metadata": {},
   "outputs": [
    {
     "name": "stdout",
     "output_type": "stream",
     "text": [
      "Epoch 1/5\n",
      "912/912 [==============================] - 22s 22ms/step - loss: 6.6803 - accuracy: 0.0530 - val_loss: 6.4652 - val_accuracy: 0.0649\n",
      "Epoch 2/5\n",
      "912/912 [==============================] - 19s 21ms/step - loss: 6.2358 - accuracy: 0.0769 - val_loss: 6.0802 - val_accuracy: 0.0883\n",
      "Epoch 3/5\n",
      "912/912 [==============================] - 19s 21ms/step - loss: 5.8055 - accuracy: 0.1052 - val_loss: 5.7456 - val_accuracy: 0.1145\n",
      "Epoch 4/5\n",
      "912/912 [==============================] - 19s 21ms/step - loss: 5.4488 - accuracy: 0.1268 - val_loss: 5.5651 - val_accuracy: 0.1274\n",
      "Epoch 5/5\n",
      "912/912 [==============================] - 20s 21ms/step - loss: 5.1812 - accuracy: 0.1429 - val_loss: 5.4633 - val_accuracy: 0.1351\n",
      "\n",
      "Training complete!\n"
     ]
    }
   ],
   "source": [
    "# Train the model\n",
    "history = model.fit(\n",
    "    X_train, y_train,            # Training data\n",
    "    validation_data=(X_val, y_val),  # Validation data\n",
    "    epochs=5,                    # Number of training rounds\n",
    "    batch_size=128,              # Samples per update\n",
    "    verbose=1                    # Show progress bar\n",
    ")\n",
    "\n",
    "print(\"\\nTraining complete!\")"
   ]
  },
  {
   "cell_type": "markdown",
   "id": "195c59bf80d2a2c4",
   "metadata": {
    "collapsed": false
   },
   "source": [
    "Plot the training history to visualize the model's learning progress. Your plot should include the training and validation loss."
   ]
  },
  {
   "cell_type": "code",
   "execution_count": 33,
   "id": "eed273ea",
   "metadata": {},
   "outputs": [
    {
     "data": {
      "image/png": "[encoded data removed]",
      "text/plain": [
       "<Figure size 1000x600 with 1 Axes>"
      ]
     },
     "metadata": {},
     "output_type": "display_data"
    }
   ],
   "source": [
    "import matplotlib.pyplot as plt\n",
    "\n",
    "# Create the plot\n",
    "plt.figure(figsize=(10, 6))\n",
    "\n",
    "# Plot training & validation loss\n",
    "plt.plot(history.history['loss'], label='Training Loss')\n",
    "plt.plot(history.history['val_loss'], label='Validation Loss')\n",
    "\n",
    "# Add labels and title\n",
    "plt.title('Model Loss Over Time')\n",
    "plt.xlabel('Epoch')\n",
    "plt.ylabel('Loss')\n",
    "plt.legend()\n",
    "\n",
    "# Show the plot\n",
    "plt.grid(True)\n",
    "plt.show()"
   ]
  },
  {
   "cell_type": "markdown",
   "id": "3d9ed71305787aed",
   "metadata": {
    "collapsed": false
   },
   "source": [
    "# 3. Text Generation (Complete or Incomplete)\n",
    "\n",
    "Write a method called `generate_text` that uses the trained model to generate new text. The method should take the following parameters:\n",
    "\n",
    "*   `model`: The trained RNN model.\n",
    "*   `tokenizer`: The tokenizer used to pre-process the text data.\n",
    "*   `seed_text`: The seed text the model will use to generate new text.\n",
    "*   `max_sequence_len`: The maximum length of the sequence used to generate new text.\n",
    "\n",
    "The method should return the generated text.\n",
    "\n",
    "An overview of the text generation process you should follow:\n",
    "\n",
    "1. Tokenize the seed text using the tokenizer we built before.\n",
    "2. Pad the sequences to the same length as the training sequences - you can use the `pad_sequences` method from the `keras.preprocessing.sequence` module, which is documented [here](https://www.tensorflow.org/api_docs/python/tf/keras/preprocessing/sequence/pad_sequences).\n",
    "3. Use the model to predict the next token in the sequence. Remember that the model will output a probability distribution over the vocabulary, so you'll need to use `np.argmax` to find the token with the highest probability.\n",
    "4. Add the predicted token to the sequence and remove the first token.\n",
    "5. Repeat steps 3-4 until you have generated the desired number of tokens.\n",
    "6. Convert the generated token IDs back to words and return the combined result as a single string.\n",
    "\n",
    "This is a challenging task, so don't hesitate to ask for help if you need it. It's okay if the generated text doesn't make much sense yet - we'll work on improving the model next.\n",
    "As a bonus, you can make your method generate \"gpt-style\" by having it print out each word as it's generated, so you can see the text being generated in real time."
   ]
  },
  {
   "cell_type": "code",
   "execution_count": 40,
   "id": "cb3083e8",
   "metadata": {},
   "outputs": [],
   "source": [
    "from tensorflow.keras.preprocessing.sequence import pad_sequences\n",
    "import numpy as np\n",
    "\n",
    "def get_predicted_word(model, sequence):\n",
    "    # Helper function to predict next word\n",
    "    yhat = model.predict(sequence, verbose=0)\n",
    "    return np.argmax(yhat)  # Get most likely word\n",
    "\n",
    "def generate_text(model, tokenizer, seed_text, max_sequence_len):\n",
    "    # Generate new text from a seed text\n",
    "    output_text = seed_text\n",
    "    \n",
    "    # Convert seed text to tokens\n",
    "    tokens = tokenizer.texts_to_sequences([seed_text.lower()])[0]\n",
    "    \n",
    "    # Generate 20 new words\n",
    "    for _ in range(20):\n",
    "        # Pad sequence to desired length\n",
    "        sequence = pad_sequences([tokens[-max_sequence_len:]], \n",
    "                               maxlen=max_sequence_len)\n",
    "        \n",
    "        # Predict next word\n",
    "        next_word_id = get_predicted_word(model, sequence)\n",
    "        \n",
    "        # Convert word ID back to word\n",
    "        next_word = tokenizer.index_word.get(next_word_id, '<UNK>')\n",
    "        \n",
    "        # Add to output\n",
    "        output_text += ' ' + next_word\n",
    "        \n",
    "        # Update tokens (remove first if too long)\n",
    "        tokens.append(next_word_id)\n",
    "        if len(tokens) > max_sequence_len:\n",
    "            tokens = tokens[-max_sequence_len:]\n",
    "        \n",
    "        # Print word as it's generated (GPT-style bonus)\n",
    "        print(next_word, end=' ', flush=True)\n",
    "    \n",
    "    return output_text"
   ]
  },
  {
   "cell_type": "code",
   "execution_count": 41,
   "id": "f463b0c3df49e2c",
   "metadata": {
    "collapsed": false
   },
   "outputs": [
    {
     "name": "stdout",
     "output_type": "stream",
     "text": [
      "i have not be a man of the sea of the sea and the first of the first of the "
     ]
    },
    {
     "data": {
      "text/plain": [
       "'hamlet i have not be a man of the sea of the sea and the first of the first of the'"
      ]
     },
     "execution_count": 41,
     "metadata": {},
     "output_type": "execute_result"
    }
   ],
   "source": [
    "# Test the text generation function\n",
    "generate_text(model, tokenizer, 'hamlet', SEQ_LENGTH)"
   ]
  },
  {
   "cell_type": "markdown",
   "id": "5871d836a0135c41",
   "metadata": {
    "collapsed": false
   },
   "source": [
    "It's likely that the text generated by your model doesn't make much sense yet. This is because the model hasn't been trained for very long, and the training dataset is relatively small. \n",
    "\n",
    "# 4. Model Refinement (Complete or Incomplete)\n",
    "\n",
    "In this last section, you'll work on improving your model. There are many ways to do this, but here are a few ideas to get you started:\n",
    "\n",
    "* Use pre-trained embeddings: the code below will help you to load pre-trained embeddings through Keras. \n",
    "* Experiment with different model architectures, including the number of layers, the number of units in each layer, and the use of dropout layers.\n",
    "* Train your model for longer. You can also experiment with different batch sizes.\n",
    "\n",
    "Implement and test out at least one of these ideas. If you have other ideas for improving the model, feel free to try them out as well."
   ]
  },
  {
   "cell_type": "code",
   "execution_count": 42,
   "id": "dda8b0f845c20862",
   "metadata": {
    "collapsed": false
   },
   "outputs": [
    {
     "name": "stderr",
     "output_type": "stream",
     "text": [
      "'wget' is not recognized as an internal or external command,\n",
      "operable program or batch file.\n",
      "'unzip' is not recognized as an internal or external command,\n",
      "operable program or batch file.\n"
     ]
    }
   ],
   "source": [
    "# These commands are for Linux/Mac\n",
    "# !wget https://downloads.cs.stanford.edu/nlp/data/glove.6B.zip\n",
    "#  !unzip glove.6B.zip"
   ]
  },
  {
   "cell_type": "code",
   "execution_count": 45,
   "id": "c06abde5",
   "metadata": {},
   "outputs": [
    {
     "name": "stdout",
     "output_type": "stream",
     "text": [
      "Downloading GloVe embeddings...\n",
      "Extracting files...\n",
      "Download complete!\n"
     ]
    }
   ],
   "source": [
    "import requests\n",
    "import zipfile\n",
    "import os\n",
    "\n",
    "# Download GloVe embeddings\n",
    "def download_glove():\n",
    "    # URL for GloVe embeddings\n",
    "    url = \"https://downloads.cs.stanford.edu/nlp/data/glove.6B.zip\"\n",
    "    \n",
    "    print(\"Downloading GloVe embeddings...\")\n",
    "    response = requests.get(url)\n",
    "    \n",
    "    # Save the zip file\n",
    "    with open(\"glove.6B.zip\", \"wb\") as f:\n",
    "        f.write(response.content)\n",
    "    \n",
    "    # Extract the zip file\n",
    "    print(\"Extracting files...\")\n",
    "    with zipfile.ZipFile(\"glove.6B.zip\", \"r\") as zip_ref:\n",
    "        zip_ref.extractall()\n",
    "    \n",
    "    # Clean up zip file\n",
    "    os.remove(\"glove.6B.zip\")\n",
    "    print(\"Download complete!\")\n",
    "\n",
    "# Download if file doesn't exist\n",
    "if not os.path.exists('glove.6B.100d.txt'):\n",
    "    download_glove()\n",
    "else:\n",
    "    print(\"GloVe embeddings already downloaded!\")"
   ]
  },
  {
   "cell_type": "code",
   "execution_count": 46,
   "id": "e8b777220505635",
   "metadata": {
    "collapsed": false
   },
   "outputs": [
    {
     "name": "stdout",
     "output_type": "stream",
     "text": [
      "Found 400000 word vectors.\n"
     ]
    }
   ],
   "source": [
    "# Load the pre-trained embeddings\n",
    "embeddings_index = {}\n",
    "try:\n",
    "    with open('glove.6B.100d.txt', encoding='utf-8') as f:\n",
    "        for line in f:\n",
    "            values = line.split()\n",
    "            word = values[0]\n",
    "            coefs = np.asarray(values[1:], dtype='float32')\n",
    "            embeddings_index[word] = coefs\n",
    "    print(f'Found {len(embeddings_index)} word vectors.')\n",
    "except FileNotFoundError:\n",
    "    print(\"'glove.6B.100d.txt' File not found. Please make sure you have ran the previous cell.\")"
   ]
  },
  {
   "cell_type": "code",
   "execution_count": 47,
   "id": "d3e48ff004757cf2",
   "metadata": {
    "collapsed": false
   },
   "outputs": [],
   "source": [
    "# Check if VOCAB_SIZE is set\n",
    "if VOCAB_SIZE is None:\n",
    "    print(\"You need to complete the previous parts of your assignment in order for this to work.\")\n",
    "else:\n",
    "    # Create an embedding matrix\n",
    "    embedding_matrix = np.zeros((VOCAB_SIZE, 100))\n",
    "    for word, i in tokenizer.word_index.items():\n",
    "        if i < VOCAB_SIZE:\n",
    "            embedding_vector = embeddings_index.get(word)\n",
    "            if embedding_vector is not None:\n",
    "                embedding_matrix[i] = embedding_vector"
   ]
  },
  {
   "cell_type": "code",
   "execution_count": 48,
   "id": "e3d21d5dbbbcf9f9",
   "metadata": {
    "collapsed": false
   },
   "outputs": [],
   "source": [
    "# Check if VOCAB_SIZE is set\n",
    "if VOCAB_SIZE is None:\n",
    "    print(\"You need to complete the previous parts of your assignment in order for this to work.\")\n",
    "else:\n",
    "    embedding_layer = Embedding(\n",
    "        VOCAB_SIZE, 100, weights=[embedding_matrix], input_length=SEQ_LENGTH, trainable=False\n",
    "    )"
   ]
  },
  {
   "cell_type": "code",
   "execution_count": 19,
   "id": "236cb723e4e5b3fc",
   "metadata": {
    "collapsed": false
   },
   "outputs": [],
   "source": [
    "# Define a new model and train it\n",
    "\n",
    "# Your code here"
   ]
  },
  {
   "cell_type": "code",
   "execution_count": 68,
   "id": "26dcd0e1",
   "metadata": {},
   "outputs": [
    {
     "name": "stdout",
     "output_type": "stream",
     "text": [
      "Epoch 1/20\n",
      "1824/1824 [==============================] - 92s 48ms/step - loss: 7.9458 - accuracy: 0.0449 - val_loss: 6.8599 - val_accuracy: 0.0557\n",
      "Epoch 2/20\n",
      "1824/1824 [==============================] - 86s 47ms/step - loss: 6.5610 - accuracy: 0.0575 - val_loss: 6.3898 - val_accuracy: 0.0638\n",
      "Epoch 3/20\n",
      "1824/1824 [==============================] - 86s 47ms/step - loss: 6.2113 - accuracy: 0.0689 - val_loss: 6.1763 - val_accuracy: 0.0782\n",
      "Epoch 4/20\n",
      "1824/1824 [==============================] - 86s 47ms/step - loss: 5.9911 - accuracy: 0.0829 - val_loss: 6.0220 - val_accuracy: 0.0903\n",
      "Epoch 5/20\n",
      "1824/1824 [==============================] - 92s 50ms/step - loss: 5.8318 - accuracy: 0.0948 - val_loss: 5.9190 - val_accuracy: 0.1010\n",
      "Epoch 6/20\n",
      "1824/1824 [==============================] - 87s 48ms/step - loss: 5.7101 - accuracy: 0.1026 - val_loss: 5.8599 - val_accuracy: 0.1069\n",
      "Epoch 7/20\n",
      "1824/1824 [==============================] - 83s 46ms/step - loss: 5.6128 - accuracy: 0.1072 - val_loss: 5.8126 - val_accuracy: 0.1115\n",
      "Epoch 8/20\n",
      "1824/1824 [==============================] - 86s 47ms/step - loss: 5.5311 - accuracy: 0.1123 - val_loss: 5.7875 - val_accuracy: 0.1148\n",
      "Epoch 9/20\n",
      "1824/1824 [==============================] - 87s 47ms/step - loss: 5.4660 - accuracy: 0.1148 - val_loss: 5.7730 - val_accuracy: 0.1163\n",
      "Epoch 10/20\n",
      "1824/1824 [==============================] - 90s 49ms/step - loss: 5.4087 - accuracy: 0.1171 - val_loss: 5.7616 - val_accuracy: 0.1168\n",
      "Epoch 11/20\n",
      "1824/1824 [==============================] - 93s 51ms/step - loss: 5.3585 - accuracy: 0.1200 - val_loss: 5.7564 - val_accuracy: 0.1184\n",
      "Epoch 12/20\n",
      "1824/1824 [==============================] - 86s 47ms/step - loss: 5.3161 - accuracy: 0.1220 - val_loss: 5.7506 - val_accuracy: 0.1205\n",
      "Epoch 13/20\n",
      "1824/1824 [==============================] - 86s 47ms/step - loss: 5.2778 - accuracy: 0.1233 - val_loss: 5.7470 - val_accuracy: 0.1225\n",
      "Epoch 14/20\n",
      "1824/1824 [==============================] - 87s 48ms/step - loss: 5.2464 - accuracy: 0.1261 - val_loss: 5.7459 - val_accuracy: 0.1217\n",
      "Epoch 15/20\n",
      "1824/1824 [==============================] - 86s 47ms/step - loss: 5.2169 - accuracy: 0.1267 - val_loss: 5.7519 - val_accuracy: 0.1244\n",
      "Epoch 16/20\n",
      "1824/1824 [==============================] - 88s 48ms/step - loss: 5.1885 - accuracy: 0.1284 - val_loss: 5.7489 - val_accuracy: 0.1234\n",
      "Epoch 17/20\n",
      "1824/1824 [==============================] - 88s 48ms/step - loss: 5.1653 - accuracy: 0.1301 - val_loss: 5.7511 - val_accuracy: 0.1245\n",
      "\n",
      "Generating text with temperature sampling:\n",
      "\n",
      "Temperature: 0.5\n",
      "Prompt: 'hamlet speaks to'\n",
      "hamlet speaks to her and a king and the thousand king in the love to the head of the merry of the last\n",
      "\n",
      "Temperature: 0.7\n",
      "Prompt: 'hamlet speaks to'\n",
      "hamlet speaks to each use to this work to a project gutenberg tm trademark with the distribution of project gutenberg tm license to\n",
      "\n",
      "Temperature: 1.0\n",
      "Prompt: 'hamlet speaks to'\n",
      "hamlet speaks to the sum is in a foul male few power strange action and o two a spirit if particular adr makes\n"
     ]
    }
   ],
   "source": [
    "from tensorflow.keras.layers import Bidirectional, LayerNormalization, Dense, Layer\n",
    "import tensorflow as tf\n",
    "\n",
    "# Custom attention layer\n",
    "class AttentionLayer(Layer):\n",
    "    def __init__(self):\n",
    "        super(AttentionLayer, self).__init__()\n",
    "        \n",
    "    def build(self, input_shape):\n",
    "        self.W = self.add_weight(name=\"att_weight\",\n",
    "                                shape=(input_shape[-1], 1),\n",
    "                                initializer=\"normal\")\n",
    "        super(AttentionLayer, self).build(input_shape)\n",
    "        \n",
    "    def call(self, x):\n",
    "        e = tf.tanh(tf.matmul(x, self.W))\n",
    "        a = tf.nn.softmax(e, axis=1)\n",
    "        output = x * a\n",
    "        return tf.reduce_sum(output, axis=1)\n",
    "\n",
    "# Define improved model with custom attention\n",
    "model = Sequential([\n",
    "    # Embedding layer\n",
    "    Embedding(\n",
    "        VOCAB_SIZE, \n",
    "        100,\n",
    "        weights=[embedding_matrix],\n",
    "        input_length=SEQ_LENGTH,\n",
    "        trainable=True\n",
    "    ),\n",
    "    \n",
    "    # First LSTM block\n",
    "    LayerNormalization(),\n",
    "    Bidirectional(LSTM(256, return_sequences=True)),\n",
    "    Dropout(0.3),\n",
    "    \n",
    "    # Attention layer\n",
    "    AttentionLayer(),\n",
    "    LayerNormalization(),\n",
    "    Dropout(0.3),\n",
    "    \n",
    "    # Dense layers\n",
    "    Dense(256, activation='relu', kernel_regularizer=l2(0.01)),\n",
    "    Dropout(0.4),\n",
    "    Dense(VOCAB_SIZE, activation='softmax')\n",
    "])\n",
    "\n",
    "# Use a learning rate schedule\n",
    "initial_learning_rate = 1e-4\n",
    "decay_steps = 1000\n",
    "decay_rate = 0.95\n",
    "learning_rate_schedule = tf.keras.optimizers.schedules.ExponentialDecay(\n",
    "    initial_learning_rate, decay_steps, decay_rate\n",
    ")\n",
    "optimizer = Adam(learning_rate=learning_rate_schedule)\n",
    "\n",
    "model.compile(\n",
    "    optimizer=optimizer,\n",
    "    loss='categorical_crossentropy',\n",
    "    metrics=['accuracy']\n",
    ")\n",
    "\n",
    "# Modified early stopping\n",
    "early_stopping = EarlyStopping(\n",
    "    monitor='val_loss',\n",
    "    patience=3,\n",
    "    restore_best_weights=True,\n",
    "    min_delta=0.001\n",
    ")\n",
    "\n",
    "# Train the model\n",
    "history = model.fit(\n",
    "    X_train, y_train,\n",
    "    validation_data=(X_val, y_val),\n",
    "    epochs=20,\n",
    "    batch_size=64,\n",
    "    callbacks=[early_stopping],\n",
    "    verbose=1\n",
    ")\n",
    "\n",
    "# Modified text generation with temperature\n",
    "def generate_text_with_temperature(model, tokenizer, seed_text, seq_length, temperature=0.7):\n",
    "    result = seed_text\n",
    "    for _ in range(20):\n",
    "        sequence = tokenizer.texts_to_sequences([result])[0]\n",
    "        padded = pad_sequences([sequence], maxlen=seq_length, padding='pre')\n",
    "        \n",
    "        predictions = model.predict(padded, verbose=0)[0]\n",
    "        \n",
    "        # Apply temperature scaling\n",
    "        predictions = np.log(predictions) / temperature\n",
    "        exp_preds = np.exp(predictions)\n",
    "        predictions = exp_preds / np.sum(exp_preds)\n",
    "        \n",
    "        # Sample from the distribution\n",
    "        next_index = np.random.choice(len(predictions), p=predictions)\n",
    "        next_word = tokenizer.index_word.get(next_index, '')\n",
    "        \n",
    "        result += \" \" + next_word\n",
    "    return result\n",
    "\n",
    "# Test with different temperatures\n",
    "print(\"\\nGenerating text with temperature sampling:\")\n",
    "for temp in [0.5, 0.7, 1.0]:\n",
    "    print(f\"\\nTemperature: {temp}\")\n",
    "    print(\"Prompt: 'hamlet speaks to'\")\n",
    "    print(generate_text_with_temperature(model, tokenizer, \"hamlet speaks to\", SEQ_LENGTH, temp)) # chosen \"hamlet speaks to\" as a prompt"
   ]
  },
  {
   "cell_type": "code",
   "execution_count": 69,
   "id": "e7ccb459",
   "metadata": {},
   "outputs": [
    {
     "data": {
      "image/png": "[encoded data removed]",
      "text/plain": [
       "<Figure size 1500x500 with 2 Axes>"
      ]
     },
     "metadata": {},
     "output_type": "display_data"
    }
   ],
   "source": [
    "import matplotlib.pyplot as plt\n",
    "\n",
    "# Extract metrics from the training data\n",
    "epochs = range(1, 18)  # 17 epochs\n",
    "train_loss = [7.9458, 6.5610, 6.2113, 5.9911, 5.8318, 5.7101, 5.6128, 5.5311, 5.4660, 5.4087, \n",
    "              5.3585, 5.3161, 5.2778, 5.2464, 5.2169, 5.1885, 5.1653]\n",
    "val_loss = [6.8599, 6.3898, 6.1763, 6.0220, 5.9190, 5.8599, 5.8126, 5.7875, 5.7730, 5.7616,\n",
    "            5.7564, 5.7506, 5.7470, 5.7459, 5.7519, 5.7489, 5.7511]\n",
    "train_acc = [0.0449, 0.0575, 0.0689, 0.0829, 0.0948, 0.1026, 0.1072, 0.1123, 0.1148, 0.1171,\n",
    "             0.1200, 0.1220, 0.1233, 0.1261, 0.1267, 0.1284, 0.1301]\n",
    "val_acc = [0.0557, 0.0638, 0.0782, 0.0903, 0.1010, 0.1069, 0.1115, 0.1148, 0.1163, 0.1168,\n",
    "           0.1184, 0.1205, 0.1225, 0.1217, 0.1244, 0.1234, 0.1245]\n",
    "\n",
    "# Create figure with two subplots\n",
    "fig, (ax1, ax2) = plt.subplots(1, 2, figsize=(15, 5))\n",
    "\n",
    "# Plot loss\n",
    "ax1.plot(epochs, train_loss, 'b-', label='Training Loss')\n",
    "ax1.plot(epochs, val_loss, 'r-', label='Validation Loss')\n",
    "ax1.set_title('Model Loss')\n",
    "ax1.set_xlabel('Epoch')\n",
    "ax1.set_ylabel('Loss')\n",
    "ax1.legend()\n",
    "ax1.grid(True)\n",
    "\n",
    "# Plot accuracy\n",
    "ax2.plot(epochs, train_acc, 'b-', label='Training Accuracy')\n",
    "ax2.plot(epochs, val_acc, 'r-', label='Validation Accuracy')\n",
    "ax2.set_title('Model Accuracy')\n",
    "ax2.set_xlabel('Epoch')\n",
    "ax2.set_ylabel('Accuracy')\n",
    "ax2.legend()\n",
    "ax2.grid(True)\n",
    "\n",
    "plt.tight_layout()\n",
    "plt.show()"
   ]
  },
  {
   "cell_type": "markdown",
   "id": "3e986b5b",
   "metadata": {},
   "source": [
    "In this assignment , we trained a computer model to understand and generate Shakespeare-style text, focusing mainly on Hamlet. The model started with a basic understanding (4.49% accuracy) and gradually improved to 13.01% accuracy after training. We used special techniques like attention layers and pre-trained word embeddings to help the model better understand the context and relationships between words in Shakespeare's writing.\n",
    "\n",
    "The most interesting part was testing different \"temperature\" settings to control how creative the model could be:\n",
    "- Temperature 0.5 (Best): \"hamlet speaks to her and a king...\" - produced the most Shakespeare-like text\n",
    "- Temperature 0.7: \"hamlet speaks to each use...\" - started mixing in other text\n",
    "- Temperature 1.0: \"hamlet speaks to the sum is in a foul male...\" - got too creative\n",
    "\n",
    "Looking at the results graphs, we can see that both the training (blue line) and validation (red line) scores improved steadily over time. The model learned to make fewer mistakes (loss decreased from 7.94 to 5.16) and got better at predicting the next word in sequences. While 13% accuracy might seem low, we found out it's actually quite reasonable for this type of complex language task, especially when dealing with Shakespeare's unique writing style."
   ]
  },
  {
   "cell_type": "markdown",
   "id": "742095fb",
   "metadata": {},
   "source": [
    "## Criteria\n",
    "\n",
    "|Criteria|Complete|Incomplete|\n",
    "|----|----|----|\n",
    "|Task 1|The task has been completed successfully and there are no errors.|The task is still incomplete and there is at least one error.|\n",
    "|Task 2|The task has been completed successfully and there are no errors.|The task is still incomplete and there is at least one error.|\n",
    "|Task 3|The task has been completed successfully and there are no errors.|The task is still incomplete and there is at least one error.|\n",
    "|Task 4|The task has been completed successfully and there are no errors.|The task is still incomplete and there is at least one error.|"
   ]
  },
  {
   "cell_type": "markdown",
   "id": "1990e2d2",
   "metadata": {},
   "source": [
    "## Submission Information\n",
    "\n",
    "🚨**Please review our [Assignment Submission Guide](https://github.com/UofT-DSI/onboarding/blob/main/onboarding_documents/submissions.md)**🚨 for detailed instructions on how to format, branch, and submit your work. Following these guidelines is crucial for your submissions to be evaluated correctly.\n",
    "\n",
    "### Submission Parameters:\n",
    "* Submission Due Date: `HH:MM AM/PM - DD/MM/YYYY`\n",
    "* The branch name for your repo should be: `assignment-2`\n",
    "* What to submit for this assignment:\n",
    "    * This Jupyter Notebook (assignment_2.ipynb) should be populated and should be the only change in your pull request.\n",
    "* What the pull request link should look like for this assignment: `https://github.com/<your_github_username>/deep_learning/pull/<pr_id>`\n",
    "    * Open a private window in your browser. Copy and paste the link to your pull request into the address bar. Make sure you can see your pull request properly. This helps the technical facilitator and learning support staff review your submission easily.\n",
    "\n",
    "Checklist:\n",
    "- [ ] Created a branch with the correct naming convention.\n",
    "- [ ] Ensured that the repository is public.\n",
    "- [ ] Reviewed the PR description guidelines and adhered to them.\n",
    "- [ ] Verify that the link is accessible in a private browser window.\n",
    "\n",
    "If you encounter any difficulties or have questions, please don't hesitate to reach out to our team via our Slack at `#cohort-3-help`. Our Technical Facilitators and Learning Support staff are here to help you navigate any challenges."
   ]
  }
 ],
 "metadata": {
  "accelerator": "GPU",
  "colab": {
   "gpuType": "T4",
   "provenance": []
  },
  "kernelspec": {
   "display_name": "dsi_participant",
   "language": "python",
   "name": "python3"
  },
  "language_info": {
   "codemirror_mode": {
    "name": "ipython",
    "version": 3
   },
   "file_extension": ".py",
   "mimetype": "text/x-python",
   "name": "python",
   "nbconvert_exporter": "python",
   "pygments_lexer": "ipython3",
   "version": "3.9.15"
  }
 },
 "nbformat": 4,
 "nbformat_minor": 5
}
